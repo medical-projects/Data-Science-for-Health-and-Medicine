{
  "nbformat": 4,
  "nbformat_minor": 0,
  "metadata": {
    "colab": {
      "name": "Skin-Scanner-IdentifyVariousSkinDiseases-CNN.ipynb",
      "version": "0.3.2",
      "provenance": [],
      "collapsed_sections": [],
      "toc_visible": true,
      "machine_shape": "hm",
      "include_colab_link": true
    },
    "kernelspec": {
      "name": "python3",
      "display_name": "Python 3"
    },
    "accelerator": "GPU"
  },
  "cells": [
    {
      "cell_type": "markdown",
      "metadata": {
        "id": "view-in-github",
        "colab_type": "text"
      },
      "source": [
        "<a href=\"https://colab.research.google.com/github/strifale/Data-Science-for-Health-and-Medicine/blob/master/Skin_Scanner_IdentifyVariousSkinDiseases_CNN.ipynb\" target=\"_parent\"><img src=\"https://colab.research.google.com/assets/colab-badge.svg\" alt=\"Open In Colab\"/></a>"
      ]
    },
    {
      "cell_type": "code",
      "metadata": {
        "id": "EEppm6l_TSmh",
        "colab_type": "code",
        "outputId": "61a64f50-9b34-4c8b-d692-c52744a86b37",
        "colab": {
          "base_uri": "https://localhost:8080/",
          "height": 51
        }
      },
      "source": [
        "\n",
        "import os\n",
        "!pwd\n",
        "os.chdir(\"/content\")\n",
        "!pwd\n",
        "!rm -rf cloned-repo\n"
      ],
      "execution_count": 0,
      "outputs": [
        {
          "output_type": "stream",
          "text": [
            "/content\n",
            "/content\n"
          ],
          "name": "stdout"
        }
      ]
    },
    {
      "cell_type": "markdown",
      "metadata": {
        "id": "G8wWQsPFH-od",
        "colab_type": "text"
      },
      "source": [
        "# MIT BeaverWorks Summer Institute- Medlytics 2nd Place Winner 2019\n",
        "\n",
        "### **Sample data output using model**\n",
        "\n",
        "CNNs are common used for skin cancer, but not so much for skin disease because of common features sharing in most skin diseases. However, this model is an attempt to try to distingiush 3 main skin diseases. \n",
        "\n",
        "### Main Question: Can we use an image to predict whether someone has eczema, psoriasis, tinea, or no disease?\n",
        "Eczema:\n",
        "\n",
        "![alt text](data:image/jpeg;base64,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)\n",
        "\n",
        "Psoriasis: \n",
        "\n",
        "![alt text](data:image/jpeg;base64,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)\n",
        "\n",
        "\n",
        "Tinea:\n",
        "\n",
        "![Tinea](data:image/jpeg;base64,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)\n",
        "\n",
        "\n",
        "\n",
        "Some Quick Stats:\n",
        "\n",
        "*   31.6 million in U.S. have eczema\n",
        "*   8 million in U.S. have psoriasis\n",
        "*   3 million U.S. tinea cases / year\n",
        "*   Treatment available for each\n",
        "\n",
        "Downloaded images from DermNet (Training/Testing data) & 11k Hands (Control Group)"
      ]
    },
    {
      "cell_type": "code",
      "metadata": {
        "id": "y2WTy9zDZti8",
        "colab_type": "code",
        "outputId": "2b64399c-cc4f-4ee0-a543-75d924887b66",
        "colab": {
          "base_uri": "https://localhost:8080/",
          "height": 289
        }
      },
      "source": [
        "# Clone the entire repo (for skin disease)\n",
        "!git clone -l -s https://github.com/day-students/DermNet-Crawl.git cloned-repo\n",
        "%cd cloned-repo\n",
        "!ls -lrt\n"
      ],
      "execution_count": 0,
      "outputs": [
        {
          "output_type": "stream",
          "text": [
            "Cloning into 'cloned-repo'...\n",
            "warning: --local is ignored\n",
            "remote: Enumerating objects: 55, done.\u001b[K\n",
            "remote: Counting objects:   1% (1/55)\u001b[K\rremote: Counting objects:   3% (2/55)\u001b[K\rremote: Counting objects:   5% (3/55)\u001b[K\rremote: Counting objects:   7% (4/55)\u001b[K\rremote: Counting objects:   9% (5/55)\u001b[K\rremote: Counting objects:  10% (6/55)\u001b[K\rremote: Counting objects:  12% (7/55)\u001b[K\rremote: Counting objects:  14% (8/55)\u001b[K\rremote: Counting objects:  16% (9/55)\u001b[K\rremote: Counting objects:  18% (10/55)\u001b[K\rremote: Counting objects:  20% (11/55)\u001b[K\rremote: Counting objects:  21% (12/55)\u001b[K\rremote: Counting objects:  23% (13/55)\u001b[K\rremote: Counting objects:  25% (14/55)\u001b[K\rremote: Counting objects:  27% (15/55)\u001b[K\rremote: Counting objects:  29% (16/55)\u001b[K\rremote: Counting objects:  30% (17/55)\u001b[K\rremote: Counting objects:  32% (18/55)\u001b[K\rremote: Counting objects:  34% (19/55)\u001b[K\rremote: Counting objects:  36% (20/55)\u001b[K\rremote: Counting objects:  38% (21/55)\u001b[K\rremote: Counting objects:  40% (22/55)\u001b[K\rremote: Counting objects:  41% (23/55)\u001b[K\rremote: Counting objects:  43% (24/55)\u001b[K\rremote: Counting objects:  45% (25/55)\u001b[K\rremote: Counting objects:  47% (26/55)\u001b[K\rremote: Counting objects:  49% (27/55)\u001b[K\rremote: Counting objects:  50% (28/55)\u001b[K\rremote: Counting objects:  52% (29/55)\u001b[K\rremote: Counting objects:  54% (30/55)\u001b[K\rremote: Counting objects:  56% (31/55)\u001b[K\rremote: Counting objects:  58% (32/55)\u001b[K\rremote: Counting objects:  60% (33/55)\u001b[K\rremote: Counting objects:  61% (34/55)\u001b[K\rremote: Counting objects:  63% (35/55)\u001b[K\rremote: Counting objects:  65% (36/55)\u001b[K\rremote: Counting objects:  67% (37/55)\u001b[K\rremote: Counting objects:  69% (38/55)\u001b[K\rremote: Counting objects:  70% (39/55)\u001b[K\rremote: Counting objects:  72% (40/55)\u001b[K\rremote: Counting objects:  74% (41/55)\u001b[K\rremote: Counting objects:  76% (42/55)\u001b[K\rremote: Counting objects:  78% (43/55)\u001b[K\rremote: Counting objects:  80% (44/55)\u001b[K\rremote: Counting objects:  81% (45/55)\u001b[K\rremote: Counting objects:  83% (46/55)\u001b[K\rremote: Counting objects:  85% (47/55)\u001b[K\rremote: Counting objects:  87% (48/55)\u001b[K\rremote: Counting objects:  89% (49/55)\u001b[K\rremote: Counting objects:  90% (50/55)\u001b[K\rremote: Counting objects:  92% (51/55)\u001b[K\rremote: Counting objects:  94% (52/55)\u001b[K\rremote: Counting objects:  96% (53/55)\u001b[K\rremote: Counting objects:  98% (54/55)\u001b[K\rremote: Counting objects: 100% (55/55)\u001b[K\rremote: Counting objects: 100% (55/55), done.\u001b[K\n",
            "remote: Compressing objects: 100% (49/49), done.\u001b[K\n",
            "remote: Total 3798 (delta 0), reused 54 (delta 0), pack-reused 3743\u001b[K\n",
            "Receiving objects: 100% (3798/3798), 334.87 MiB | 58.94 MiB/s, done.\n",
            "Resolving deltas: 100% (7/7), done.\n",
            "Checking out files: 100% (3841/3841), done.\n",
            "/content/cloned-repo\n",
            "total 24\n",
            "-rw-r--r-- 1 root root  473 Aug 11 20:17 README.md\n",
            "drwxr-xr-x 3 root root 4096 Aug 11 20:17 data\n",
            "-rw-r--r-- 1 root root 3167 Aug 11 20:17 derm-nz.py\n",
            "drwxr-xr-x 3 root root 4096 Aug 11 20:17 nz\n",
            "-rw-r--r-- 1 root root 4257 Aug 11 20:17 derm.py\n"
          ],
          "name": "stdout"
        }
      ]
    },
    {
      "cell_type": "code",
      "metadata": {
        "id": "et9ink9HS3MS",
        "colab_type": "code",
        "outputId": "f63ca34c-6b8c-4575-a81b-380321cb17f5",
        "colab": {
          "base_uri": "https://localhost:8080/",
          "height": 323
        }
      },
      "source": [
        "!git clone -l -s https://github.com/day-students/skin-scanner.git\n",
        "%cd cloned-repo\n",
        "!ls -lrt"
      ],
      "execution_count": 0,
      "outputs": [
        {
          "output_type": "stream",
          "text": [
            "Cloning into 'skin-scanner'...\n",
            "warning: --local is ignored\n",
            "remote: Enumerating objects: 1039, done.\u001b[K\n",
            "remote: Counting objects: 100% (1039/1039), done.\u001b[K\n",
            "remote: Compressing objects: 100% (1036/1036), done.\u001b[K\n",
            "remote: Total 1039 (delta 3), reused 1032 (delta 1), pack-reused 0\n",
            "Receiving objects: 100% (1039/1039), 551.94 MiB | 46.10 MiB/s, done.\n",
            "Resolving deltas: 100% (3/3), done.\n",
            "Checking out files: 100% (1025/1025), done.\n",
            "[Errno 2] No such file or directory: 'cloned-repo'\n",
            "/content/cloned-repo\n",
            "total 28\n",
            "-rw-r--r-- 1 root root  473 Aug 11 20:17 README.md\n",
            "drwxr-xr-x 3 root root 4096 Aug 11 20:17 data\n",
            "-rw-r--r-- 1 root root 3167 Aug 11 20:17 derm-nz.py\n",
            "drwxr-xr-x 3 root root 4096 Aug 11 20:17 nz\n",
            "-rw-r--r-- 1 root root 4257 Aug 11 20:17 derm.py\n",
            "drwxr-xr-x 4 root root 4096 Aug 11 20:17 skin-scanner\n"
          ],
          "name": "stdout"
        }
      ]
    },
    {
      "cell_type": "markdown",
      "metadata": {
        "id": "GgEtQM3EAF2v",
        "colab_type": "text"
      },
      "source": [
        "**Standard imports**"
      ]
    },
    {
      "cell_type": "code",
      "metadata": {
        "id": "5r-Lf0yKivJr",
        "colab_type": "code",
        "colab": {}
      },
      "source": [
        "import pandas as pd\n",
        "import numpy as np\n",
        "\n",
        "import matplotlib\n",
        "import matplotlib.image as mpimg\n",
        "import matplotlib.pyplot as plt\n",
        "\n",
        "import os\n",
        "import PIL\n",
        "from PIL import Image\n",
        "\n",
        "from skimage import data\n",
        "from skimage.color import rgb2hsv"
      ],
      "execution_count": 0,
      "outputs": []
    },
    {
      "cell_type": "markdown",
      "metadata": {
        "id": "wW_-VaZB__Rj",
        "colab_type": "text"
      },
      "source": [
        "Below is a function that creates a new folder and preprocesses the images by resizing "
      ]
    },
    {
      "cell_type": "code",
      "metadata": {
        "id": "JwCX6zeHJRDs",
        "colab_type": "code",
        "colab": {}
      },
      "source": [
        "def ResizeImages(diseaseType):\n",
        "  \n",
        "  filepath = '/content/cloned-repo/data/disease/'+ diseaseType + \"/\"\n",
        "  dirName = '/content/cloned-repo/data/disease/Processed/'\n",
        "  %mkdir $dirName\n",
        "  dirName = dirName+diseaseType\n",
        "  %mkdir $dirName\n",
        "  %cd $dirName\n",
        "  #print(\"Hopeful\", os.getcwd())\n",
        "  Destination = dirName\n",
        "  #print(\"FINALE DESTINATION\", Destination)\n",
        "  #print(filepath)\n",
        "  %cd $filepath\n",
        "  #print(\"NewFilePath\", os.getcwd())\n",
        "  #print(\"FILE\", filepath)\n",
        "  if(os.getcwd() == \"/content/cloned-repo/data/disease/Skin_pics\"):\n",
        "     \n",
        "      for file in sorted(os.listdir(filepath)):\n",
        "        image = Image.open(filepath + '/' + file)\n",
        "        img = image.resize((224, 224))\n",
        "        Filler = \"/\"+file[:-4]+\"Resized.jpg\"\n",
        "        Des = Destination+Filler\n",
        "        %cd $Destination\n",
        "        img.save(Des, \"JPEG\", optimize=True)\n",
        "  else:\n",
        "\n",
        "    for folder in sorted(os.listdir(filepath)):\n",
        "      val = filepath+folder\n",
        "      %cd $val\n",
        "\n",
        "      for file in sorted(os.listdir(val)):\n",
        "        image = Image.open(val + \"/\"+file)\n",
        "        #print(file)\n",
        "        img = image.resize((224, 224))\n",
        "        #arr = np.array(img, dtype=np.uint8)\n",
        "        #arr = arr/255 #This centers the mean to 0- try making a color box too\n",
        "        #img2 = Image.fromarray(arr.astype('uint8'), 'RGB')\n",
        "        Filler = \"/\"+file[:-4]+\"Resized.jpg\"\n",
        "        #print(\"FIller: \", Filler)\n",
        "        Des = Destination+Filler\n",
        "        #print(Des)\n",
        "        %cd $Destination\n",
        "        img.save(Des, \"JPEG\", optimize=True)\n",
        "        #ProcessedImage = plt.imread(Des)\n",
        "        #print(Filler, ProcessedImage)\n",
        "        #print(filename, get_num_pixels(filename))"
      ],
      "execution_count": 0,
      "outputs": []
    },
    {
      "cell_type": "markdown",
      "metadata": {
        "id": "WbJH-x-5BJV9",
        "colab_type": "text"
      },
      "source": [
        "**Changes directory**"
      ]
    },
    {
      "cell_type": "code",
      "metadata": {
        "id": "IfoxOdfhT1ez",
        "colab_type": "code",
        "outputId": "e30abe24-cf72-43cb-8cac-8060cca91ebc",
        "colab": {
          "base_uri": "https://localhost:8080/",
          "height": 34
        }
      },
      "source": [
        "import shutil\n",
        "shutil.move(\"/content/cloned-repo/skin-scanner/Skin_pics\", \"/content/cloned-repo/data/disease/\")"
      ],
      "execution_count": 0,
      "outputs": [
        {
          "output_type": "execute_result",
          "data": {
            "text/plain": [
              "'/content/cloned-repo/data/disease/Skin_pics'"
            ]
          },
          "metadata": {
            "tags": []
          },
          "execution_count": 31
        }
      ]
    },
    {
      "cell_type": "code",
      "metadata": {
        "id": "gb046WRcdCr9",
        "colab_type": "code",
        "colab": {}
      },
      "source": [
        "ResizeImages(\"Psoriasis\")\n",
        "ResizeImages(\"eczema\")\n",
        "ResizeImages(\"Tinea\")\n",
        "ResizeImages(\"Skin_pics\")"
      ],
      "execution_count": 0,
      "outputs": []
    },
    {
      "cell_type": "markdown",
      "metadata": {
        "id": "0a1cmcr-BSpl",
        "colab_type": "text"
      },
      "source": [
        "**Importing all the necessary packages and layers for tensorflow with keras**"
      ]
    },
    {
      "cell_type": "code",
      "metadata": {
        "id": "yctCwEP3s05d",
        "colab_type": "code",
        "outputId": "692b896b-ac92-4b1b-d422-eaa60f56acd3",
        "colab": {
          "base_uri": "https://localhost:8080/",
          "height": 34
        }
      },
      "source": [
        "%matplotlib inline\n",
        "import glob\n",
        "import matplotlib\n",
        "from matplotlib import pyplot as plt\n",
        "import matplotlib.image as mpimg\n",
        "import numpy as np\n",
        "import imageio as im\n",
        "from keras import models\n",
        "from keras.models import Sequential\n",
        "from keras.layers import Conv2D\n",
        "from keras.layers import Reshape\n",
        "from keras.layers import MaxPooling2D\n",
        "from keras.layers import Flatten\n",
        "from keras.layers import Dense\n",
        "from keras.layers import Dropout\n",
        "from keras.layers import Activation\n",
        "\n",
        "from keras.preprocessing import image\n",
        "from keras.preprocessing.image import ImageDataGenerator\n",
        "from keras.callbacks import ModelCheckpoint\n",
        "from keras.utils import to_categorical\n",
        "from keras.wrappers.scikit_learn import KerasClassifier\n",
        "from sklearn.model_selection import StratifiedKFold\n",
        "from sklearn.model_selection import cross_val_score\n",
        "\n",
        "import tensorflow as tf\n",
        "from sklearn.model_selection import GridSearchCV\n",
        "from __future__ import absolute_import, division, print_function, unicode_literals\n",
        "\n",
        "import tensorflow as tf\n",
        "from tensorflow.keras import layers\n",
        "from sklearn.model_selection import KFold\n",
        "\n",
        "from keras.layers import BatchNormalization\n"
      ],
      "execution_count": 0,
      "outputs": [
        {
          "output_type": "stream",
          "text": [
            "Using TensorFlow backend.\n"
          ],
          "name": "stderr"
        }
      ]
    },
    {
      "cell_type": "markdown",
      "metadata": {
        "id": "25tQgqT6By8v",
        "colab_type": "text"
      },
      "source": [
        "**Appending modified pictures RGB values into list**"
      ]
    },
    {
      "cell_type": "code",
      "metadata": {
        "id": "_Mt5wySQtvGo",
        "colab_type": "code",
        "outputId": "0f784b21-f644-4c82-a759-e9c4fcb3d630",
        "colab": {
          "base_uri": "https://localhost:8080/",
          "height": 85
        }
      },
      "source": [
        "\n",
        "skinPics = []\n",
        "Psoriasis = []\n",
        "Tinea = []\n",
        "Eczema = []\n",
        "for folder in sorted(os.listdir(\"/content/cloned-repo/data/disease/Processed\")):\n",
        "  if folder == \"Psoriasis\":\n",
        "    path = \"/content/cloned-repo/data/disease/Processed\"+\"/\"+folder + \"/\"\n",
        "    %cd $path\n",
        "    for file in sorted(os.listdir(path)): \n",
        "      Psoriasis.append(mpimg.imread(file))\n",
        "  elif folder == \"Tinea\":\n",
        "    path = \"/content/cloned-repo/data/disease/Processed\"+\"/\"+folder + \"/\"\n",
        "    %cd $path\n",
        "    for file in sorted(os.listdir(path)): \n",
        "      #print(file)\n",
        "      Tinea.append(mpimg.imread(file))\n",
        "  elif folder == \"eczema\":\n",
        "    path = \"/content/cloned-repo/data/disease/Processed\"+\"/\"+folder + \"/\"\n",
        "    %cd $path\n",
        "    for file in os.listdir(path): \n",
        "      #print(file)\n",
        "      Eczema.append(mpimg.imread(file))\n",
        "  elif folder == \"Skin_pics\":\n",
        "    path = \"/content/cloned-repo/data/disease/Processed\"+\"/\"+folder + \"/\"\n",
        "    %cd $path\n",
        "    for file in sorted(os.listdir(path)): \n",
        "      #print(file)\n",
        "      skinPics.append(mpimg.imread(file))\n",
        "      "
      ],
      "execution_count": 0,
      "outputs": [
        {
          "output_type": "stream",
          "text": [
            "/content/cloned-repo/data/disease/Processed/Psoriasis\n",
            "/content/cloned-repo/data/disease/Processed/Skin_pics\n",
            "/content/cloned-repo/data/disease/Processed/Tinea\n",
            "/content/cloned-repo/data/disease/Processed/eczema\n"
          ],
          "name": "stdout"
        }
      ]
    },
    {
      "cell_type": "code",
      "metadata": {
        "id": "uJ2AFmveZqT4",
        "colab_type": "code",
        "outputId": "572e3d3d-cd3b-4257-f1ac-e53ac61a056a",
        "colab": {
          "base_uri": "https://localhost:8080/",
          "height": 85
        }
      },
      "source": [
        "Psoriasis = np.asarray(Psoriasis)\n",
        "Tinea = np.asarray(Tinea)\n",
        "Eczema = np.asarray(Eczema)\n",
        "skinPics = np.asarray(skinPics)\n",
        "print(Tinea.shape)\n",
        "print(Eczema.shape)\n",
        "print(Psoriasis.shape)\n",
        "print(skinPics.shape)"
      ],
      "execution_count": 0,
      "outputs": [
        {
          "output_type": "stream",
          "text": [
            "(1255, 224, 224, 3)\n",
            "(1267, 224, 224, 3)\n",
            "(1283, 224, 224, 3)\n",
            "(1016, 224, 224, 3)\n"
          ],
          "name": "stdout"
        }
      ]
    },
    {
      "cell_type": "markdown",
      "metadata": {
        "id": "R6AxCD2uCH5N",
        "colab_type": "text"
      },
      "source": [
        "**Normalizing RGB values to center the mean to 0**"
      ]
    },
    {
      "cell_type": "code",
      "metadata": {
        "id": "CztcjNpfaFCF",
        "colab_type": "code",
        "outputId": "813ce313-f0fa-4558-ebc9-7b51b90e18b8",
        "colab": {
          "base_uri": "https://localhost:8080/",
          "height": 85
        }
      },
      "source": [
        "#converting to np.float32\n",
        "Tinea = Tinea.astype(np.float32) / 255\n",
        "Eczema = Eczema.astype(np.float32) / 255\n",
        "Psoriasis = Psoriasis.astype(np.float32) / 255\n",
        "skinPics = skinPics.astype(np.float32) / 255\n",
        "print(Tinea.shape)\n",
        "print(Eczema.shape)\n",
        "print(Psoriasis.shape)\n",
        "print(skinPics.shape)"
      ],
      "execution_count": 0,
      "outputs": [
        {
          "output_type": "stream",
          "text": [
            "(1255, 224, 224, 3)\n",
            "(1267, 224, 224, 3)\n",
            "(1283, 224, 224, 3)\n",
            "(1016, 224, 224, 3)\n"
          ],
          "name": "stdout"
        }
      ]
    },
    {
      "cell_type": "code",
      "metadata": {
        "id": "_JwHdN5JeOnE",
        "colab_type": "code",
        "outputId": "1dc47555-d695-4e04-b9c9-2efdb0c4f681",
        "colab": {
          "base_uri": "https://localhost:8080/",
          "height": 34
        }
      },
      "source": [
        "images = np.vstack((Eczema, Psoriasis, Tinea, skinPics))\n",
        "images.shape"
      ],
      "execution_count": 0,
      "outputs": [
        {
          "output_type": "execute_result",
          "data": {
            "text/plain": [
              "(4821, 224, 224, 3)"
            ]
          },
          "metadata": {
            "tags": []
          },
          "execution_count": 37
        }
      ]
    },
    {
      "cell_type": "code",
      "metadata": {
        "id": "0k0nTfMafTNU",
        "colab_type": "code",
        "outputId": "ce4e7cb3-184d-49c9-ebdb-6e2f87d8e116",
        "colab": {
          "base_uri": "https://localhost:8080/",
          "height": 34
        }
      },
      "source": [
        "# [1, 0, 0, 0] is eczema, [0, 1, 0, 0] is psoriasis, [0, 0, 1, 0] is tinea, and [0, 0, 0, 1] is normal skin\n",
        "#.shape[0] gives the number of images for each category\n",
        "labels = [[1, 0, 0, 0]] * Eczema.shape[0] + [[0, 1, 0, 0]] * Psoriasis.shape[0] + [[0, 0, 1, 0]] * Tinea.shape[0] + [[0, 0, 0, 1]] * skinPics.shape[0]\n",
        "labels = np.array(labels)\n",
        "labels.shape"
      ],
      "execution_count": 0,
      "outputs": [
        {
          "output_type": "execute_result",
          "data": {
            "text/plain": [
              "(4821, 4)"
            ]
          },
          "metadata": {
            "tags": []
          },
          "execution_count": 38
        }
      ]
    },
    {
      "cell_type": "markdown",
      "metadata": {
        "id": "dJhisnnFD-Lh",
        "colab_type": "text"
      },
      "source": [
        "**Splitting data into 20% test/ 80% train**"
      ]
    },
    {
      "cell_type": "code",
      "metadata": {
        "id": "eE7rBk2p0GBe",
        "colab_type": "code",
        "colab": {}
      },
      "source": [
        "from sklearn.model_selection import train_test_split\n",
        "data_train, data_test, labels_train, labels_test = train_test_split(images, labels, test_size=0.20, random_state=0)"
      ],
      "execution_count": 0,
      "outputs": []
    },
    {
      "cell_type": "code",
      "metadata": {
        "id": "0qAAzZ6MDmx7",
        "colab_type": "code",
        "outputId": "6720d595-00c7-4629-dff2-137fac8d52d3",
        "colab": {
          "base_uri": "https://localhost:8080/",
          "height": 34
        }
      },
      "source": [
        "data_train.shape[1:]"
      ],
      "execution_count": 0,
      "outputs": [
        {
          "output_type": "execute_result",
          "data": {
            "text/plain": [
              "(224, 224, 3)"
            ]
          },
          "metadata": {
            "tags": []
          },
          "execution_count": 40
        }
      ]
    },
    {
      "cell_type": "markdown",
      "metadata": {
        "id": "UgAM6lxxCi4z",
        "colab_type": "text"
      },
      "source": [
        "**Implementing different CNN layers/models- tuning hyperparameters**\n",
        "\n"
      ]
    },
    {
      "cell_type": "code",
      "metadata": {
        "id": "1W-wPqaAXmPp",
        "colab_type": "code",
        "colab": {}
      },
      "source": [
        "#Attempt 7: Params\n",
        "\n",
        "model = Sequential()\n",
        "#model.add(squeeze(input_shape, 0))\n",
        "#model.add(Flatten()) #150,528---> (150528,)\n",
        "#model.add(Reshape((112, 112, 12), input_shape=(224, 224, 3)))\n",
        "model.add(Conv2D(filters=32, kernel_size=(3,3), activation='relu', input_shape=(224, 224, 3)))\n",
        "model.add(MaxPooling2D(pool_size=(2, 2)))\n",
        "model.add(Dropout(0.1))\n",
        "model.add(Conv2D(64, kernel_size=(3, 3), activation='relu'))\n",
        "model.add(MaxPooling2D(pool_size=(2, 2)))\n",
        "model.add(Dropout(0.1))\n",
        "model.add(Flatten())\n",
        "model.add(Dense(128, activation='relu'))\n",
        "model.add(Dropout(0.1))\n",
        "model.add(Dense(64, activation='relu'))\n",
        "model.add(Dropout(0.1))\n",
        "model.add(Dense(32, activation='relu'))\n",
        "model.add(Dropout(0.1))\n",
        "model.add(Dense(4, activation='softmax'))\n",
        "model.compile(optimizer='adam', loss='categorical_crossentropy', metrics=['accuracy'])\n"
      ],
      "execution_count": 0,
      "outputs": []
    },
    {
      "cell_type": "code",
      "metadata": {
        "id": "YpCad_lWUdH7",
        "colab_type": "code",
        "outputId": "0cdb85d1-b472-462b-c894-2e9329dd2ffd",
        "colab": {
          "base_uri": "https://localhost:8080/",
          "height": 612
        }
      },
      "source": [
        "model.summary()"
      ],
      "execution_count": 0,
      "outputs": [
        {
          "output_type": "stream",
          "text": [
            "_________________________________________________________________\n",
            "Layer (type)                 Output Shape              Param #   \n",
            "=================================================================\n",
            "conv2d_1 (Conv2D)            (None, 222, 222, 32)      896       \n",
            "_________________________________________________________________\n",
            "max_pooling2d_1 (MaxPooling2 (None, 111, 111, 32)      0         \n",
            "_________________________________________________________________\n",
            "dropout_1 (Dropout)          (None, 111, 111, 32)      0         \n",
            "_________________________________________________________________\n",
            "conv2d_2 (Conv2D)            (None, 109, 109, 64)      18496     \n",
            "_________________________________________________________________\n",
            "max_pooling2d_2 (MaxPooling2 (None, 54, 54, 64)        0         \n",
            "_________________________________________________________________\n",
            "dropout_2 (Dropout)          (None, 54, 54, 64)        0         \n",
            "_________________________________________________________________\n",
            "flatten_1 (Flatten)          (None, 186624)            0         \n",
            "_________________________________________________________________\n",
            "dense_1 (Dense)              (None, 128)               23888000  \n",
            "_________________________________________________________________\n",
            "dropout_3 (Dropout)          (None, 128)               0         \n",
            "_________________________________________________________________\n",
            "dense_2 (Dense)              (None, 64)                8256      \n",
            "_________________________________________________________________\n",
            "dropout_4 (Dropout)          (None, 64)                0         \n",
            "_________________________________________________________________\n",
            "dense_3 (Dense)              (None, 32)                2080      \n",
            "_________________________________________________________________\n",
            "dropout_5 (Dropout)          (None, 32)                0         \n",
            "_________________________________________________________________\n",
            "dense_4 (Dense)              (None, 4)                 132       \n",
            "=================================================================\n",
            "Total params: 23,917,860\n",
            "Trainable params: 23,917,860\n",
            "Non-trainable params: 0\n",
            "_________________________________________________________________\n"
          ],
          "name": "stdout"
        }
      ]
    },
    {
      "cell_type": "markdown",
      "metadata": {
        "id": "K5287Ch0E07I",
        "colab_type": "text"
      },
      "source": [
        "**Fitting the data into the model**"
      ]
    },
    {
      "cell_type": "code",
      "metadata": {
        "id": "KPsTlO1Hk_hK",
        "colab_type": "code",
        "outputId": "186476ea-dc4e-4c97-eb09-6ab419c99045",
        "colab": {
          "base_uri": "https://localhost:8080/",
          "height": 136
        }
      },
      "source": [
        "model.fit(data_train, labels_train, epochs=10)"
      ],
      "execution_count": 0,
      "outputs": [
        {
          "output_type": "stream",
          "text": [
            "Epoch 1/3\n",
            "3856/3856 [==============================] - 9s 2ms/step - loss: 0.6767 - acc: 0.7033\n",
            "Epoch 2/3\n",
            "3856/3856 [==============================] - 9s 2ms/step - loss: 0.5670 - acc: 0.7567\n",
            "Epoch 3/3\n",
            "3856/3856 [==============================] - 9s 2ms/step - loss: 0.4572 - acc: 0.8117\n"
          ],
          "name": "stdout"
        },
        {
          "output_type": "execute_result",
          "data": {
            "text/plain": [
              "<keras.callbacks.History at 0x7f40e55532e8>"
            ]
          },
          "metadata": {
            "tags": []
          },
          "execution_count": 51
        }
      ]
    },
    {
      "cell_type": "code",
      "metadata": {
        "id": "q3eA1YZ5hxD8",
        "colab_type": "code",
        "outputId": "722640c9-f1e0-4ef1-bbe1-837bf9b9e54c",
        "colab": {
          "base_uri": "https://localhost:8080/",
          "height": 85
        }
      },
      "source": [
        "loss, accuracy = model.evaluate(data_test, labels_test)\n",
        "loss2, accuracy2 = model.evaluate(data_train, labels_train)\n",
        "print('Test accuracy: %.2f' % (accuracy))\n",
        "print('Training accuracy: %.2f' % (accuracy2))"
      ],
      "execution_count": 0,
      "outputs": [
        {
          "output_type": "stream",
          "text": [
            "965/965 [==============================] - 1s 876us/step\n",
            "3856/3856 [==============================] - 3s 813us/step\n",
            "Test accuracy: 0.64\n",
            "Training accuracy: 0.89\n"
          ],
          "name": "stdout"
        }
      ]
    },
    {
      "cell_type": "markdown",
      "metadata": {
        "id": "YSAKL6fhF--n",
        "colab_type": "text"
      },
      "source": [
        "### Conclusions:\n",
        "Model 7 can predict which skin condition someone has with 64% testing accuracy.\n",
        "Similar projects are worth pursuing in the future (with more time and resources)\n",
        "Better data processing could benefit model accuracy (like using HSV values instead of RGB, using OpenCV for color filtering and excluding unnecessary background)\n",
        "\n",
        "### Future Work:\n",
        "*   Increase model accuracy (>80%)\n",
        "*   Get more data for better training\n",
        "*   Try more parameters\n",
        "*   Incorporate user medical history\n",
        "*   Validate model on real people\n",
        "*   Create mobile app that does not require Internet\n",
        "*   Extend to more diseases\n",
        "\n"
      ]
    },
    {
      "cell_type": "code",
      "metadata": {
        "id": "UO7FSW4yK7lp",
        "colab_type": "code",
        "colab": {}
      },
      "source": [
        ""
      ],
      "execution_count": 0,
      "outputs": []
    }
  ]
}